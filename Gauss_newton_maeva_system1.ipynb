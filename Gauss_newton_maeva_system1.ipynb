{
 "cells": [
  {
   "cell_type": "markdown",
   "id": "daf5b71b",
   "metadata": {},
   "source": [
    "# Introduction\n",
    "\n",
    "In many scientific and engineering applications, it is often necessary to optimize the parameters of a dynamical system to fit observed data. One common approach to parameter optimization is the Gaussian-Newton algorithm, which iteratively updates the parameters to minimize the difference between the predicted and observed measurements. In this project, we will explore the implementation of the Gaussian-Newton algorithm in Python to optimize the parameters of a dynamical system."
   ]
  },
  {
   "cell_type": "markdown",
   "id": "abf8da8b",
   "metadata": {},
   "source": [
    "Let's consider a dynamic system described by the following ordinary diffrenetial equations:\n",
    "$$\\frac{{dx}}{{dt}} = ax + by$$\n",
    "$$\\frac{{dy}}{{dt}} = cx + dy$$\n",
    "Where x,y represent the variables which describe the state of the system and a,b,c,d the parameters of the system\n",
    "The system of differential equations corresponding to the matrix \\( A \\) can be expressed as:\n",
    "$$\n",
    "\\frac{{d}}{{dt}} \\begin{pmatrix} x \\\\ y \\end{pmatrix} = A \\begin{pmatrix} x \\\\ y \\end{pmatrix}\n",
    "$$\n",
    "\n",
    "Given that $ A $ is a $ 2 \\times 2 $ matrix:\n",
    "\n",
    "$$A = \\begin{pmatrix} a & b \\\\ c & d \\end{pmatrix}$$\n",
    "\n",
    "And the state vector is $\\begin{pmatrix} x \\\\ y \\end{pmatrix}$.\n",
    "\n",
    "let $\\dfrac{dX}{dt}=AX\\\\$ with $X= \\begin{pmatrix} x \\\\ y \\end{pmatrix}$, \n",
    "\n",
    "$$X(t)= \\exp(At)X_0$$, with $X_o=\\begin{pmatrix} x_{o}\\\\ y_{o} \\end{pmatrix}$, $e^{At}$ is $ 2 \\times 2 $ matrix\n",
    "\n",
    "both $ X$ and $X_o$ is $ 2 \\times 1 $ matrix.\n",
    "\n",
    "Let's considering the new system define by\n",
    "$$\\begin{array}{l}\n",
    "\\dfrac{dX}{dt}\\\\\n",
    "\\dfrac{dZ_{X}}{dt}\\\\\n",
    "\\dfrac{dZ_{Y}}{dt}\\end{array}$$ où $X=\\begin{pmatrix}x\\\\y\\end{pmatrix}$, $Z_{X}$ contient les dérivées de $x$ par raport à $a,b,c,d$ et \n",
    "$Z_{Y}$ contient les dérivées de $y$ par raport à $a,b,c,d$  \n",
    "\n",
    "\n",
    "Si $X0$ est la condition initiale pour le systeme 2x2; la condition initiale pour le systeme 10x10 est \n",
    "\n",
    "Notons $\\frac{dZ}{dt}=MZ(t)$, then $ Z(t)= \\exp(Mt)Z_{o}$\n",
    "\n",
    " \\begin{eqnarray*}\n",
    "\tZ(t)=\\begin{pmatrix}\n",
    "\t\tX \\\\\\\n",
    "\t\tZ_{X} \\\\\\\n",
    "\t\tZ_{Y} \\\\\n",
    "\t\\end{pmatrix}\t\n",
    "\\end{eqnarray*}\n",
    " $Z_0=\\begin{pmatrix}x_0\\\\y_0\\\\0\\\\0\\\\0\\\\0\\\\0\\\\0\\\\0\\\\0\\end{pmatrix}$.\n",
    " \n",
    " where:\n",
    " \n",
    "* $Z_{X}$ contains the derivatives of $x$ with respect to $a$, $b$, $c$, and $d$.\n",
    "\t\n",
    "* $Z_{Y}$ contains the derivatives of $y$ with respect to $a$, $b$, $c$, and $d$."
   ]
  },
  {
   "cell_type": "markdown",
   "id": "898c0db1",
   "metadata": {},
   "source": [
    "## Importing Libraries\n",
    "The code begins by importing the necessary libraries, including NumPy, SciPy, and Matplotlib. These libraries provide various mathematical and plotting functions required for the implementation."
   ]
  },
  {
   "cell_type": "code",
   "execution_count": 156,
   "id": "017a5e3c",
   "metadata": {},
   "outputs": [],
   "source": [
    "import numpy as np\n",
    "from scipy.integrate import odeint\n",
    "import matplotlib.pyplot as plt\n",
    "from scipy.linalg import expm"
   ]
  },
  {
   "cell_type": "markdown",
   "id": "e659de3d",
   "metadata": {},
   "source": [
    "## Initializing Parameters\n",
    "* The initial parameters are defined in the A_init the initial matrix of A containing the paramters \n",
    "* sigma is the variance of the Gaussian noise\n",
    "* p is the number of time points\n",
    "* eps is the tolerance for convergence\n",
    "* cost_init is the initial cost function"
   ]
  },
  {
   "cell_type": "code",
   "execution_count": 157,
   "id": "67f5a10e",
   "metadata": {},
   "outputs": [],
   "source": [
    " # Initial optimised parameters\n",
    "A_init =np.array([[-0.1, 2 ],[2, -0.1]])\n",
    "sigma=0.001\n",
    "#sigmas = [0.0001, 0.001, 0.01, 0.1] # noise level\n",
    "p = 30 #number of parameter\n",
    "\n",
    "t = np.linspace(0,2, p) # times\n",
    "eps = 1e-6 # Tolerance\n",
    "\n",
    "#initial conditions of the system\n",
    "X_o= np.array([2, 0])\n",
    "\n",
    "cost_init = 0 # Initial cost function\n",
    "k_max = 1000 # maximal itteration number\n",
    "\n",
    "L=len(t) #lenght of t"
   ]
  },
  {
   "cell_type": "code",
   "execution_count": 158,
   "id": "ee5c9f57",
   "metadata": {},
   "outputs": [
    {
     "data": {
      "text/plain": [
       "(30,)"
      ]
     },
     "execution_count": 158,
     "metadata": {},
     "output_type": "execute_result"
    }
   ],
   "source": [
    "np.shape(t)"
   ]
  },
  {
   "cell_type": "markdown",
   "id": "23ab3a0f",
   "metadata": {},
   "source": [
    "## Defining the state vector of $10\\times10$ matrix system \n",
    "The finZ function calculates the state vectors of the dynamical system at different time points. It uses the expm function from the SciPy library to compute the matrix exponential."
   ]
  },
  {
   "cell_type": "code",
   "execution_count": 159,
   "id": "5a06ef56",
   "metadata": {},
   "outputs": [],
   "source": [
    "def finZ(A, t, X_o, L):\n",
    "    Z_M = np.zeros((L, 10))  # Initialize array to store state vectors\n",
    "    for k in range(L):\n",
    "        M = np.array([\n",
    "            [A[0, 0], A[0, 1], 0, 0, 0, 0, 0, 0, 0, 0],\n",
    "            [A[1, 0], A[1, 1], 0, 0, 0, 0, 0, 0, 0, 0],\n",
    "            [1, 0, A[0, 0], 0, 0, 0, A[0, 1], 0, 0, 0],\n",
    "            [0, 1, 0, A[0, 0], 0, 0, 0, A[0, 1], 0, 0],\n",
    "            [0, 0, 0, 0, A[0, 0], 0, 0, 0, A[0, 1], 0],\n",
    "            [0, 0, 0, 0, 0, A[0, 0], 0, 0, 0, A[0, 1]],\n",
    "            [0, 0, A[1, 0], 0, 0, 0, A[1, 1], 0, 0, 0],\n",
    "            [0, 0, 0, A[1, 0], 0, 0, 0, A[1, 1], 0, 0],\n",
    "            [1, 0, 0, 0, A[1, 0], 0, 0, 0, A[1, 1], 0],\n",
    "            [0, 1, 0, 0, 0, A[1, 0], 0, 0, 0, A[1, 1]]])\n",
    "        Z_o = np.array([X_o[0], X_o[1], 0, 0, 0, 0, 0, 0, 0, 0])\n",
    "        Z_M[k] = np.dot(expm(M * t[k]), Z_o)  # Store state vector at time t[k]\n",
    "    return Z_M"
   ]
  },
  {
   "cell_type": "markdown",
   "id": "9e6b7658",
   "metadata": {},
   "source": [
    "## Testing the finZ function "
   ]
  },
  {
   "cell_type": "code",
   "execution_count": 160,
   "id": "b60cb2a0",
   "metadata": {},
   "outputs": [
    {
     "data": {
      "text/plain": [
       "array([[2.00000000e+00, 0.00000000e+00, 0.00000000e+00, 0.00000000e+00,\n",
       "        0.00000000e+00, 0.00000000e+00, 0.00000000e+00, 0.00000000e+00,\n",
       "        0.00000000e+00, 0.00000000e+00],\n",
       "       [2.00517854e+00, 2.74835643e-01, 1.37852998e-01, 9.47709115e-03,\n",
       "        9.47709115e-03, 4.35176680e-04, 9.47709115e-03, 4.35176680e-04,\n",
       "        1.37852998e-01, 9.47709115e-03],\n",
       "       [2.04813780e+00, 5.51094534e-01, 2.79024516e-01, 3.80065196e-02,\n",
       "        3.80065196e-02, 3.47724939e-03, 3.80065196e-02, 3.47724939e-03,\n",
       "        2.79024516e-01, 3.80065196e-02],\n",
       "       [2.12917119e+00, 8.33972102e-01, 4.28752114e-01, 8.62729760e-02,\n",
       "        8.62729760e-02, 1.17660635e-02, 8.62729760e-02, 1.17660635e-02,\n",
       "        4.28752114e-01, 8.62729760e-02],\n",
       "       [2.24928682e+00, 1.12871755e+00, 5.92425845e-01, 1.55685179e-01,\n",
       "        1.55685179e-01, 2.80670711e-02, 1.55685179e-01, 2.80670711e-02,\n",
       "        5.92425845e-01, 1.55685179e-01],\n",
       "       [2.41021674e+00, 1.44073220e+00, 7.75737659e-01, 2.48402103e-01,\n",
       "        2.48402103e-01, 5.53715606e-02, 2.48402103e-01, 5.53715606e-02,\n",
       "        7.75737659e-01, 2.48402103e-01],\n",
       "       [2.61443972e+00, 1.77566937e+00, 9.84835906e-01, 3.67379871e-01,\n",
       "        3.67379871e-01, 9.70012187e-02, 3.67379871e-01, 9.70012187e-02,\n",
       "        9.84835906e-01, 3.67379871e-01],\n",
       "       [2.86521782e+00, 2.13953767e+00, 1.22648872e+00, 5.16440128e-01,\n",
       "        5.16440128e-01, 1.56719884e-01, 5.16440128e-01, 1.56719884e-01,\n",
       "        1.22648872e+00, 5.16440128e-01],\n",
       "       [3.16664725e+00, 2.53880950e+00, 1.50826024e+00, 7.00361243e-01,\n",
       "        7.00361243e-01, 2.38855487e-01, 7.00361243e-01, 2.38855487e-01,\n",
       "        1.50826024e+00, 7.00361243e-01],\n",
       "       [3.52372423e+00, 2.98053693e+00, 1.83870382e+00, 9.24994221e-01,\n",
       "        9.24994221e-01, 3.48435354e-01, 9.24994221e-01, 3.48435354e-01,\n",
       "        1.83870382e+00, 9.24994221e-01],\n",
       "       [3.94242699e+00, 3.47247686e+00, 2.22757680e+00, 1.19740581e+00,\n",
       "        1.19740581e+00, 4.91338370e-01, 1.19740581e+00, 4.91338370e-01,\n",
       "        2.22757680e+00, 1.19740581e+00],\n",
       "       [4.42981520e+00, 4.02322776e+00, 2.68608167e+00, 1.52605191e+00,\n",
       "        1.52605191e+00, 6.74467792e-01, 1.52605191e+00, 6.74467792e-01,\n",
       "        2.68608167e+00, 1.52605191e+00],\n",
       "       [4.99414838e+00, 4.64238054e+00, 3.22713929e+00, 1.92098505e+00,\n",
       "        1.92098505e+00, 9.05949024e-01, 1.92098505e+00, 9.05949024e-01,\n",
       "        3.22713929e+00, 1.92098505e+00],\n",
       "       [5.64502540e+00, 5.34068591e+00, 3.86570010e+00, 2.39410058e+00,\n",
       "        2.39410058e+00, 1.19535715e+00, 2.39410058e+00, 1.19535715e+00,\n",
       "        3.86570010e+00, 2.39410058e+00],\n",
       "       [6.39354732e+00, 6.13024148e+00, 4.61910045e+00, 2.95942692e+00,\n",
       "        2.95942692e+00, 1.55397972e+00, 2.95942692e+00, 1.55397972e+00,\n",
       "        4.61910045e+00, 2.95942692e+00],\n",
       "       [7.25250636e+00, 7.02470167e+00, 5.50747181e+00, 3.63346638e+00,\n",
       "        3.63346638e+00, 1.99512098e+00, 3.63346638e+00, 1.99512098e+00,\n",
       "        5.50747181e+00, 3.63346638e+00],\n",
       "       [8.23660426e+00, 8.03951414e+00, 6.55421192e+00, 4.43559401e+00,\n",
       "        4.43559401e+00, 2.53445485e+00, 4.43559401e+00, 2.53445485e+00,\n",
       "        6.55421192e+00, 4.43559401e+00],\n",
       "       [9.36270357e+00, 9.19218683e+00, 7.78652811e+00, 5.38852331e+00,\n",
       "        5.38852331e+00, 3.19043470e+00, 5.38852331e+00, 3.19043470e+00,\n",
       "        7.78652811e+00, 5.38852331e+00],\n",
       "       [1.06501164e+01, 1.05025902e+01, 9.23606464e+00, 6.51884909e+00,\n",
       "        6.51884909e+00, 3.98476954e+00, 6.51884909e+00, 3.98476954e+00,\n",
       "        9.23606464e+00, 6.51884909e+00],\n",
       "       [1.21209355e+01, 1.19933000e+01, 1.09396276e+01, 7.85767934e+00,\n",
       "        7.85767934e+00, 4.94297757e+00, 7.85767934e+00, 4.94297757e+00,\n",
       "        1.09396276e+01, 7.85767934e+00],\n",
       "       [1.38004130e+01, 1.36899865e+01, 1.29400229e+01, 9.44136999e+00,\n",
       "        9.44136999e+00, 6.09502962e+00, 9.44136999e+00, 6.09502962e+00,\n",
       "        1.29400229e+01, 9.44136999e+00],\n",
       "       [1.57173942e+01, 1.56218562e+01, 1.52870253e+01, 1.13123787e+01,\n",
       "        1.13123787e+01, 7.47609723e+00, 1.13123787e+01, 7.47609723e+00,\n",
       "        1.52870253e+01, 1.13123787e+01],\n",
       "       [1.79048122e+01, 1.78221555e+01, 1.80384998e+01, 1.35202559e+01,\n",
       "        1.35202559e+01, 9.12742209e+00, 1.35202559e+01, 9.12742209e+00,\n",
       "        1.80384998e+01, 1.35202559e+01],\n",
       "       [2.04002544e+01, 2.03287422e+01, 2.12616976e+01, 1.61227955e+01,\n",
       "        1.61227955e+01, 1.10973265e+01, 1.61227955e+01, 1.10973265e+01,\n",
       "        2.12616976e+01, 1.61227955e+01],\n",
       "       [2.32466076e+01, 2.31847373e+01, 2.50347561e+01, 1.91873688e+01,\n",
       "        1.91873688e+01, 1.34423875e+01, 1.91873688e+01, 1.34423875e+01,\n",
       "        2.50347561e+01, 1.91873688e+01],\n",
       "       [2.64927954e+01, 2.64392670e+01, 2.94484335e+01, 2.27924715e+01,\n",
       "        2.27924715e+01, 1.62288000e+01, 2.27924715e+01, 1.62288000e+01,\n",
       "        2.94484335e+01, 2.27924715e+01],\n",
       "       [3.01946189e+01, 3.01483076e+01, 3.46081145e+01, 2.70295172e+01,\n",
       "        2.70295172e+01, 1.95339607e+01, 2.70295172e+01, 1.95339607e+01,\n",
       "        3.46081145e+01, 2.70295172e+01],\n",
       "       [3.44157156e+01, 3.43756485e+01, 4.06361301e+01, 3.20049141e+01,\n",
       "        3.20049141e+01, 2.34483059e+01, 3.20049141e+01, 2.34483059e+01,\n",
       "        4.06361301e+01, 3.20049141e+01],\n",
       "       [3.92286539e+01, 3.91939889e+01, 4.76744390e+01, 3.78424721e+01,\n",
       "        3.78424721e+01, 2.80774445e+01, 3.78424721e+01, 2.80774445e+01,\n",
       "        4.76744390e+01, 3.78424721e+01],\n",
       "       [4.47161801e+01, 4.46861889e+01, 5.58877273e+01, 4.46861889e+01,\n",
       "        4.46861889e+01, 3.35446328e+01, 4.46861889e+01, 3.35446328e+01,\n",
       "        5.58877273e+01, 4.46861889e+01]])"
      ]
     },
     "execution_count": 160,
     "metadata": {},
     "output_type": "execute_result"
    }
   ],
   "source": [
    "Z1=finZ(A_init, t, X_o,L)\n",
    "Z1"
   ]
  },
  {
   "cell_type": "code",
   "execution_count": 161,
   "id": "76d4d8c3",
   "metadata": {},
   "outputs": [
    {
     "data": {
      "text/plain": [
       "(30, 10)"
      ]
     },
     "execution_count": 161,
     "metadata": {},
     "output_type": "execute_result"
    }
   ],
   "source": [
    "np.shape(Z1)"
   ]
  },
  {
   "cell_type": "markdown",
   "id": "ddd355da",
   "metadata": {},
   "source": [
    "## Defining the predicted  Function\n",
    "The g function computes the predicted measurements of the dynamical system at different time points. It also uses the expm function to compute the matrix exponential. It is defined as follow:"
   ]
  },
  {
   "cell_type": "markdown",
   "id": "a24057a5",
   "metadata": {},
   "source": [
    "$X(t)= \\exp(At_{i})X_0$, with $(t_{i})_{i=0, \\dots, L-1}$"
   ]
  },
  {
   "cell_type": "code",
   "execution_count": 162,
   "id": "04a5808c",
   "metadata": {},
   "outputs": [],
   "source": [
    "def g(A, t, X_o, L):\n",
    "    g_v = np.zeros((2 * L, 1))  # Initialize as a 2L*1 matrix\n",
    "    for k in range(L):\n",
    "        v = np.dot(expm(A * t[k]), X_o.reshape(2, 1))\n",
    "        g_v[2 * k:2 * (k + 1), 0] = v[:, 0]\n",
    "    return g_v\n"
   ]
  },
  {
   "cell_type": "code",
   "execution_count": 163,
   "id": "3bf5cfdb",
   "metadata": {},
   "outputs": [
    {
     "data": {
      "text/plain": [
       "array([[ 2.        ],\n",
       "       [ 0.        ],\n",
       "       [ 2.00517854],\n",
       "       [ 0.27483564],\n",
       "       [ 2.0481378 ],\n",
       "       [ 0.55109453],\n",
       "       [ 2.12917119],\n",
       "       [ 0.8339721 ],\n",
       "       [ 2.24928682],\n",
       "       [ 1.12871755],\n",
       "       [ 2.41021674],\n",
       "       [ 1.4407322 ],\n",
       "       [ 2.61443972],\n",
       "       [ 1.77566937],\n",
       "       [ 2.86521782],\n",
       "       [ 2.13953767],\n",
       "       [ 3.16664725],\n",
       "       [ 2.5388095 ],\n",
       "       [ 3.52372423],\n",
       "       [ 2.98053693],\n",
       "       [ 3.94242699],\n",
       "       [ 3.47247686],\n",
       "       [ 4.4298152 ],\n",
       "       [ 4.02322776],\n",
       "       [ 4.99414838],\n",
       "       [ 4.64238054],\n",
       "       [ 5.6450254 ],\n",
       "       [ 5.34068591],\n",
       "       [ 6.39354732],\n",
       "       [ 6.13024148],\n",
       "       [ 7.25250636],\n",
       "       [ 7.02470167],\n",
       "       [ 8.23660426],\n",
       "       [ 8.03951414],\n",
       "       [ 9.36270357],\n",
       "       [ 9.19218683],\n",
       "       [10.65011642],\n",
       "       [10.5025902 ],\n",
       "       [12.12093551],\n",
       "       [11.99330004],\n",
       "       [13.80041305],\n",
       "       [13.68998648],\n",
       "       [15.71739416],\n",
       "       [15.62185625],\n",
       "       [17.90481218],\n",
       "       [17.82215551],\n",
       "       [20.40025436],\n",
       "       [20.32874216],\n",
       "       [23.24660758],\n",
       "       [23.18473727],\n",
       "       [26.49279541],\n",
       "       [26.43926698],\n",
       "       [30.19461887],\n",
       "       [30.1483076 ],\n",
       "       [34.41571563],\n",
       "       [34.37564845],\n",
       "       [39.22865393],\n",
       "       [39.19398894],\n",
       "       [44.71618007],\n",
       "       [44.68618892]])"
      ]
     },
     "execution_count": 163,
     "metadata": {},
     "output_type": "execute_result"
    }
   ],
   "source": [
    "g_v=g(A_init,t,X_o,L)\n",
    "g_v"
   ]
  },
  {
   "cell_type": "code",
   "execution_count": 164,
   "id": "56cc38ee",
   "metadata": {},
   "outputs": [
    {
     "data": {
      "text/plain": [
       "(60, 1)"
      ]
     },
     "execution_count": 164,
     "metadata": {},
     "output_type": "execute_result"
    }
   ],
   "source": [
    "np.shape(g_v)"
   ]
  },
  {
   "cell_type": "markdown",
   "id": "508a6d2d",
   "metadata": {},
   "source": [
    "## Defining the measurements Function\n",
    "The measurements function computes the measurements of the dynamical system by adding Gaussian noise to the predicted measurements. The np.random.normal function is used to generate random noise."
   ]
  },
  {
   "cell_type": "markdown",
   "id": "90b4f598",
   "metadata": {},
   "source": [
    "\t$N_{i} is the measurements over the time and it is 2L \\times 1$"
   ]
  },
  {
   "cell_type": "code",
   "execution_count": 165,
   "id": "d5a20412",
   "metadata": {},
   "outputs": [],
   "source": [
    "def measurements(A, t, X_o, L, sigma):\n",
    "    #for sigma in sigmas:\n",
    "    # Compute the measurements without noise\n",
    "    g_v = g(A, t, X_o, L)\n",
    "    \n",
    "    # Add Gaussian noise to each measurement\n",
    "    d = np.random.normal(0, sigma, (2 * L, 1))\n",
    "    N = g_v + d\n",
    "    return N"
   ]
  },
  {
   "cell_type": "markdown",
   "id": "30c8d28b",
   "metadata": {},
   "source": [
    "## Test measurements Function\n",
    "Compute the measurements with noise"
   ]
  },
  {
   "cell_type": "code",
   "execution_count": 166,
   "id": "5948ee9d",
   "metadata": {},
   "outputs": [
    {
     "data": {
      "text/plain": [
       "array([[ 2.00016177e+00],\n",
       "       [-8.67109174e-04],\n",
       "       [ 2.00417044e+00],\n",
       "       [ 2.75442697e-01],\n",
       "       [ 2.04774171e+00],\n",
       "       [ 5.50142313e-01],\n",
       "       [ 2.12988802e+00],\n",
       "       [ 8.33044849e-01],\n",
       "       [ 2.24909060e+00],\n",
       "       [ 1.12842409e+00],\n",
       "       [ 2.41068587e+00],\n",
       "       [ 1.43904300e+00],\n",
       "       [ 2.61346135e+00],\n",
       "       [ 1.77666494e+00],\n",
       "       [ 2.86473448e+00],\n",
       "       [ 2.14027663e+00],\n",
       "       [ 3.16669504e+00],\n",
       "       [ 2.53816717e+00],\n",
       "       [ 3.52367775e+00],\n",
       "       [ 2.98025441e+00],\n",
       "       [ 3.94055547e+00],\n",
       "       [ 3.47440215e+00],\n",
       "       [ 4.43032592e+00],\n",
       "       [ 4.02444575e+00],\n",
       "       [ 4.99456869e+00],\n",
       "       [ 4.64341153e+00],\n",
       "       [ 5.64533181e+00],\n",
       "       [ 5.33982456e+00],\n",
       "       [ 6.39502906e+00],\n",
       "       [ 6.12971072e+00],\n",
       "       [ 7.25120854e+00],\n",
       "       [ 7.02326695e+00],\n",
       "       [ 8.23708320e+00],\n",
       "       [ 8.03858632e+00],\n",
       "       [ 9.36240880e+00],\n",
       "       [ 9.19413712e+00],\n",
       "       [ 1.06494401e+01],\n",
       "       [ 1.05030790e+01],\n",
       "       [ 1.21218023e+01],\n",
       "       [ 1.19926259e+01],\n",
       "       [ 1.38004766e+01],\n",
       "       [ 1.36897887e+01],\n",
       "       [ 1.57178021e+01],\n",
       "       [ 1.56221188e+01],\n",
       "       [ 1.79047605e+01],\n",
       "       [ 1.78222576e+01],\n",
       "       [ 2.04015704e+01],\n",
       "       [ 2.03287864e+01],\n",
       "       [ 2.32459953e+01],\n",
       "       [ 2.31842610e+01],\n",
       "       [ 2.64937531e+01],\n",
       "       [ 2.64387531e+01],\n",
       "       [ 3.01937255e+01],\n",
       "       [ 3.01500776e+01],\n",
       "       [ 3.44171393e+01],\n",
       "       [ 3.43761973e+01],\n",
       "       [ 3.92296788e+01],\n",
       "       [ 3.91951099e+01],\n",
       "       [ 4.47167147e+01],\n",
       "       [ 4.46861862e+01]])"
      ]
     },
     "execution_count": 166,
     "metadata": {},
     "output_type": "execute_result"
    }
   ],
   "source": [
    "N=measurements(A_init, t, X_o,L, sigma)\n",
    "N"
   ]
  },
  {
   "cell_type": "code",
   "execution_count": 167,
   "id": "1b6d1b90",
   "metadata": {},
   "outputs": [
    {
     "data": {
      "text/plain": [
       "(60, 1)"
      ]
     },
     "execution_count": 167,
     "metadata": {},
     "output_type": "execute_result"
    }
   ],
   "source": [
    "np.shape(N)"
   ]
  },
  {
   "cell_type": "markdown",
   "id": "558f4793",
   "metadata": {},
   "source": [
    "## Defining the residuals Function\n",
    "The f function calculates the residuals between the predicted function and the the measurement over the time. It loops over each time point and computes the difference between the corresponding measurements."
   ]
  },
  {
   "cell_type": "markdown",
   "id": "f86751ff",
   "metadata": {},
   "source": [
    "$$f(X, t, \\theta)= g(X,t,\\theta)-N_{i}$$\n",
    "\n",
    "$$f: \\mu_{2 \\times 2} \\rightarrow \\mathbb{R}^{2N}$$\n",
    "\n",
    "$$\\theta \\mapsto f(X, t, \\theta)$$\n",
    "\n",
    "$f(X,t,\\theta)=\\begin{pmatrix} f_{2i}\\\\ f_{2i+1} \\end{pmatrix}=\\begin{pmatrix} \\exp(At_{i}\\times x_{o})-N_{2i}\\\\ exp(At_{i}\\times y_{o})-N_{2i+1} \\end{pmatrix} $, with $(t_{i})_{i=0, \\dots, L-1}$"
   ]
  },
  {
   "cell_type": "code",
   "execution_count": 168,
   "id": "daf2136c",
   "metadata": {},
   "outputs": [],
   "source": [
    "def f(A, t, X_o, N,L ):\n",
    "    # Initialize the residuls array\n",
    "    f_v = np.zeros((2*L, 1))\n",
    "    \n",
    "    # Compute the predicted measurements\n",
    "    g_v = g(A, t, X_o, L)\n",
    "    \n",
    "    # Loop over each time point\n",
    "    for i in range(L):\n",
    "        # Compute the residual for this time point\n",
    "        f_v[2*i:2*(i+1)] = g_v[2*i:2*(i+1)] - N[2*i:2*(i+1)]\n",
    "        \n",
    "    return f_v"
   ]
  },
  {
   "cell_type": "markdown",
   "id": "ceab96dc",
   "metadata": {},
   "source": [
    "## Testing the residual function"
   ]
  },
  {
   "cell_type": "code",
   "execution_count": 169,
   "id": "ddd6bae3",
   "metadata": {},
   "outputs": [
    {
     "data": {
      "text/plain": [
       "array([[-1.61771936e-04],\n",
       "       [ 8.67109174e-04],\n",
       "       [ 1.00809964e-03],\n",
       "       [-6.07053774e-04],\n",
       "       [ 3.96094297e-04],\n",
       "       [ 9.52220577e-04],\n",
       "       [-7.16825280e-04],\n",
       "       [ 9.27252976e-04],\n",
       "       [ 1.96216667e-04],\n",
       "       [ 2.93459350e-04],\n",
       "       [-4.69132995e-04],\n",
       "       [ 1.68919629e-03],\n",
       "       [ 9.78365796e-04],\n",
       "       [-9.95562052e-04],\n",
       "       [ 4.83348689e-04],\n",
       "       [-7.38957992e-04],\n",
       "       [-4.77881136e-05],\n",
       "       [ 6.42338204e-04],\n",
       "       [ 4.64794643e-05],\n",
       "       [ 2.82525254e-04],\n",
       "       [ 1.87152128e-03],\n",
       "       [-1.92529249e-03],\n",
       "       [-5.10719216e-04],\n",
       "       [-1.21798561e-03],\n",
       "       [-4.20308660e-04],\n",
       "       [-1.03098990e-03],\n",
       "       [-3.06406363e-04],\n",
       "       [ 8.61346524e-04],\n",
       "       [-1.48174355e-03],\n",
       "       [ 5.30750927e-04],\n",
       "       [ 1.29782321e-03],\n",
       "       [ 1.43472293e-03],\n",
       "       [-4.78944987e-04],\n",
       "       [ 9.27817411e-04],\n",
       "       [ 2.94772398e-04],\n",
       "       [-1.95029493e-03],\n",
       "       [ 6.76286200e-04],\n",
       "       [-4.88812803e-04],\n",
       "       [-8.66747369e-04],\n",
       "       [ 6.74113873e-04],\n",
       "       [-6.35713762e-05],\n",
       "       [ 1.97810160e-04],\n",
       "       [-4.07922489e-04],\n",
       "       [-2.62569067e-04],\n",
       "       [ 5.16576358e-05],\n",
       "       [-1.02111606e-04],\n",
       "       [-1.31603033e-03],\n",
       "       [-4.42664307e-05],\n",
       "       [ 6.12326644e-04],\n",
       "       [ 4.76229814e-04],\n",
       "       [-9.57648747e-04],\n",
       "       [ 5.13873273e-04],\n",
       "       [ 8.93345233e-04],\n",
       "       [-1.76997817e-03],\n",
       "       [-1.42364796e-03],\n",
       "       [-5.48837854e-04],\n",
       "       [-1.02482263e-03],\n",
       "       [-1.12093323e-03],\n",
       "       [-5.34584520e-04],\n",
       "       [ 2.68476068e-06]])"
      ]
     },
     "execution_count": 169,
     "metadata": {},
     "output_type": "execute_result"
    }
   ],
   "source": [
    "f_A=f(A_init,t,X_o,N,L)\n",
    "f_A"
   ]
  },
  {
   "cell_type": "code",
   "execution_count": 170,
   "id": "be065d01",
   "metadata": {},
   "outputs": [
    {
     "data": {
      "text/plain": [
       "(60, 1)"
      ]
     },
     "execution_count": 170,
     "metadata": {},
     "output_type": "execute_result"
    }
   ],
   "source": [
    "np.shape(f_A)"
   ]
  },
  {
   "cell_type": "markdown",
   "id": "757ca319",
   "metadata": {},
   "source": [
    "## Defining the cost function\n",
    "The cost function quantifies the difference between the predicted function and the measurements. The goal of the optimization algorithm is to minimize this cost function."
   ]
  },
  {
   "cell_type": "markdown",
   "id": "c9d019c1",
   "metadata": {},
   "source": [
    "The objective function is define as $$\tG(\\theta)=\\left\\| f(X, t, \\theta) \\right\\|^2=\\sum_{i}^{2L} (f(X, t, \\theta))^2$$, "
   ]
  },
  {
   "cell_type": "markdown",
   "id": "90f09c58",
   "metadata": {},
   "source": [
    "For assessing the quality of predictive models and guiding model development efforts towards better performance we need to find the cost function in our case we use the root mean squared error (RMSE) which is a common metric used to evaluate the performance of a predictive model. It provides a measure of how well the predictions of a model match the observed data. it is define as $RMSE = \\sqrt{\\frac{1}{n} \\sum_{i=1}^{n} (f(X, t, \\theta))^2}$, n is the number of parameters(n=4)."
   ]
  },
  {
   "cell_type": "code",
   "execution_count": 171,
   "id": "88592a57",
   "metadata": {},
   "outputs": [],
   "source": [
    "def cost_function(A, t, X_o, N, L):\n",
    "    # Compute the residuals\n",
    "    f_v= f(A, t, X_o, N, L)\n",
    "    # Calculate the sum of squares of the residuals\n",
    "    #cost = np.linalg.norm(f_v ** 2)\n",
    "    cost=0.25*np.sqrt(0.25*np.mean((f_v ** 2)))\n",
    "    return cost"
   ]
  },
  {
   "cell_type": "markdown",
   "id": "8833eb02",
   "metadata": {},
   "source": [
    "## Testing the cost function"
   ]
  },
  {
   "cell_type": "code",
   "execution_count": 172,
   "id": "871d3a46",
   "metadata": {},
   "outputs": [
    {
     "data": {
      "text/plain": [
       "0.00011158743824979815"
      ]
     },
     "execution_count": 172,
     "metadata": {},
     "output_type": "execute_result"
    }
   ],
   "source": [
    "C=cost_function(A_init,t, X_o, N, L)\n",
    "C"
   ]
  },
  {
   "cell_type": "markdown",
   "id": "3dde706f",
   "metadata": {},
   "source": [
    "## Defining the jacobian matrix"
   ]
  },
  {
   "cell_type": "markdown",
   "id": "bdd07b39",
   "metadata": {},
   "source": [
    "The Jacobian matrix is a matrix of partial derivatives that describes the sensitivity of the predicted measurements to changes in the parameters. It plays a crucial role in updating the parameters during each iteration of the Gaussian-Newton algorithm."
   ]
  },
  {
   "cell_type": "code",
   "execution_count": 173,
   "id": "6b5265a1",
   "metadata": {},
   "outputs": [],
   "source": [
    "#def jacobian_f(A, t, Z_o, L):\n",
    "\n",
    "def jacobian_f(A, t, X_o, L):\n",
    "    M = np.array([\n",
    "                [A[0,0], A[0,1], 0, 0, 0, 0, 0, 0, 0, 0],\n",
    "                [A[1,0], A[1,1], 0, 0, 0, 0, 0, 0, 0, 0],\n",
    "                [1, 0, A[0,0], 0, 0, 0, A[0,1], 0, 0, 0],\n",
    "                [0, 1, 0, A[0,0], 0, 0, 0, A[0,1], 0, 0],\n",
    "                [0, 0, 0, 0, A[0,0], 0, 0, 0, A[0,1], 0],\n",
    "                [0, 0, 0, 0, 0, A[0,0], 0, 0, 0, A[0,1]],\n",
    "                [0, 0, A[1,0], 0, 0, 0, A[1,1], 0, 0, 0],\n",
    "                [0, 0, 0, A[1,0], 0, 0, 0, A[1,1], 0, 0],\n",
    "                [1, 0, 0, 0, A[1,0], 0, 0, 0, A[1,1], 0],\n",
    "                [0, 1, 0, 0, 0, A[1,0], 0, 0, 0, A[1,1]]])\n",
    "        \n",
    "    Z_o=np.array([X_o[0],X_o[1],0,0,0,0,0,0,0,0])\n",
    "    Jf_A = np.zeros((2*L, 4))\n",
    "    for i in range(L):\n",
    "        Z_M = expm(M*t[i]).dot(Z_o)\n",
    "        Jf_A[2*i, :] = Z_M[2:6]\n",
    "        Jf_A[2*i+1, :] = Z_M[6:10]\n",
    "    return Jf_A"
   ]
  },
  {
   "cell_type": "markdown",
   "id": "d2b414c2",
   "metadata": {},
   "source": [
    "## Test the jacobian matrix"
   ]
  },
  {
   "cell_type": "code",
   "execution_count": 174,
   "id": "0ffa2d42",
   "metadata": {},
   "outputs": [
    {
     "data": {
      "text/plain": [
       "array([[0.00000000e+00, 0.00000000e+00, 0.00000000e+00, 0.00000000e+00],\n",
       "       [0.00000000e+00, 0.00000000e+00, 0.00000000e+00, 0.00000000e+00],\n",
       "       [1.37852998e-01, 9.47709115e-03, 9.47709115e-03, 4.35176680e-04],\n",
       "       [9.47709115e-03, 4.35176680e-04, 1.37852998e-01, 9.47709115e-03],\n",
       "       [2.79024516e-01, 3.80065196e-02, 3.80065196e-02, 3.47724939e-03],\n",
       "       [3.80065196e-02, 3.47724939e-03, 2.79024516e-01, 3.80065196e-02],\n",
       "       [4.28752114e-01, 8.62729760e-02, 8.62729760e-02, 1.17660635e-02],\n",
       "       [8.62729760e-02, 1.17660635e-02, 4.28752114e-01, 8.62729760e-02],\n",
       "       [5.92425845e-01, 1.55685179e-01, 1.55685179e-01, 2.80670711e-02],\n",
       "       [1.55685179e-01, 2.80670711e-02, 5.92425845e-01, 1.55685179e-01],\n",
       "       [7.75737659e-01, 2.48402103e-01, 2.48402103e-01, 5.53715606e-02],\n",
       "       [2.48402103e-01, 5.53715606e-02, 7.75737659e-01, 2.48402103e-01],\n",
       "       [9.84835906e-01, 3.67379871e-01, 3.67379871e-01, 9.70012187e-02],\n",
       "       [3.67379871e-01, 9.70012187e-02, 9.84835906e-01, 3.67379871e-01],\n",
       "       [1.22648872e+00, 5.16440128e-01, 5.16440128e-01, 1.56719884e-01],\n",
       "       [5.16440128e-01, 1.56719884e-01, 1.22648872e+00, 5.16440128e-01],\n",
       "       [1.50826024e+00, 7.00361243e-01, 7.00361243e-01, 2.38855487e-01],\n",
       "       [7.00361243e-01, 2.38855487e-01, 1.50826024e+00, 7.00361243e-01],\n",
       "       [1.83870382e+00, 9.24994221e-01, 9.24994221e-01, 3.48435354e-01],\n",
       "       [9.24994221e-01, 3.48435354e-01, 1.83870382e+00, 9.24994221e-01],\n",
       "       [2.22757680e+00, 1.19740581e+00, 1.19740581e+00, 4.91338370e-01],\n",
       "       [1.19740581e+00, 4.91338370e-01, 2.22757680e+00, 1.19740581e+00],\n",
       "       [2.68608167e+00, 1.52605191e+00, 1.52605191e+00, 6.74467792e-01],\n",
       "       [1.52605191e+00, 6.74467792e-01, 2.68608167e+00, 1.52605191e+00],\n",
       "       [3.22713929e+00, 1.92098505e+00, 1.92098505e+00, 9.05949024e-01],\n",
       "       [1.92098505e+00, 9.05949024e-01, 3.22713929e+00, 1.92098505e+00],\n",
       "       [3.86570010e+00, 2.39410058e+00, 2.39410058e+00, 1.19535715e+00],\n",
       "       [2.39410058e+00, 1.19535715e+00, 3.86570010e+00, 2.39410058e+00],\n",
       "       [4.61910045e+00, 2.95942692e+00, 2.95942692e+00, 1.55397972e+00],\n",
       "       [2.95942692e+00, 1.55397972e+00, 4.61910045e+00, 2.95942692e+00],\n",
       "       [5.50747181e+00, 3.63346638e+00, 3.63346638e+00, 1.99512098e+00],\n",
       "       [3.63346638e+00, 1.99512098e+00, 5.50747181e+00, 3.63346638e+00],\n",
       "       [6.55421192e+00, 4.43559401e+00, 4.43559401e+00, 2.53445485e+00],\n",
       "       [4.43559401e+00, 2.53445485e+00, 6.55421192e+00, 4.43559401e+00],\n",
       "       [7.78652811e+00, 5.38852331e+00, 5.38852331e+00, 3.19043470e+00],\n",
       "       [5.38852331e+00, 3.19043470e+00, 7.78652811e+00, 5.38852331e+00],\n",
       "       [9.23606464e+00, 6.51884909e+00, 6.51884909e+00, 3.98476954e+00],\n",
       "       [6.51884909e+00, 3.98476954e+00, 9.23606464e+00, 6.51884909e+00],\n",
       "       [1.09396276e+01, 7.85767934e+00, 7.85767934e+00, 4.94297757e+00],\n",
       "       [7.85767934e+00, 4.94297757e+00, 1.09396276e+01, 7.85767934e+00],\n",
       "       [1.29400229e+01, 9.44136999e+00, 9.44136999e+00, 6.09502962e+00],\n",
       "       [9.44136999e+00, 6.09502962e+00, 1.29400229e+01, 9.44136999e+00],\n",
       "       [1.52870253e+01, 1.13123787e+01, 1.13123787e+01, 7.47609723e+00],\n",
       "       [1.13123787e+01, 7.47609723e+00, 1.52870253e+01, 1.13123787e+01],\n",
       "       [1.80384998e+01, 1.35202559e+01, 1.35202559e+01, 9.12742209e+00],\n",
       "       [1.35202559e+01, 9.12742209e+00, 1.80384998e+01, 1.35202559e+01],\n",
       "       [2.12616976e+01, 1.61227955e+01, 1.61227955e+01, 1.10973265e+01],\n",
       "       [1.61227955e+01, 1.10973265e+01, 2.12616976e+01, 1.61227955e+01],\n",
       "       [2.50347561e+01, 1.91873688e+01, 1.91873688e+01, 1.34423875e+01],\n",
       "       [1.91873688e+01, 1.34423875e+01, 2.50347561e+01, 1.91873688e+01],\n",
       "       [2.94484335e+01, 2.27924715e+01, 2.27924715e+01, 1.62288000e+01],\n",
       "       [2.27924715e+01, 1.62288000e+01, 2.94484335e+01, 2.27924715e+01],\n",
       "       [3.46081145e+01, 2.70295172e+01, 2.70295172e+01, 1.95339607e+01],\n",
       "       [2.70295172e+01, 1.95339607e+01, 3.46081145e+01, 2.70295172e+01],\n",
       "       [4.06361301e+01, 3.20049141e+01, 3.20049141e+01, 2.34483059e+01],\n",
       "       [3.20049141e+01, 2.34483059e+01, 4.06361301e+01, 3.20049141e+01],\n",
       "       [4.76744390e+01, 3.78424721e+01, 3.78424721e+01, 2.80774445e+01],\n",
       "       [3.78424721e+01, 2.80774445e+01, 4.76744390e+01, 3.78424721e+01],\n",
       "       [5.58877273e+01, 4.46861889e+01, 4.46861889e+01, 3.35446328e+01],\n",
       "       [4.46861889e+01, 3.35446328e+01, 5.58877273e+01, 4.46861889e+01]])"
      ]
     },
     "execution_count": 174,
     "metadata": {},
     "output_type": "execute_result"
    }
   ],
   "source": [
    "Jf_A=jacobian_f(A_init, t, X_o, L)\n",
    "Jf_A "
   ]
  },
  {
   "cell_type": "code",
   "execution_count": 175,
   "id": "cf4c3d76",
   "metadata": {},
   "outputs": [
    {
     "data": {
      "text/plain": [
       "(60, 4)"
      ]
     },
     "execution_count": 175,
     "metadata": {},
     "output_type": "execute_result"
    }
   ],
   "source": [
    "np.shape(Jf_A)"
   ]
  },
  {
   "cell_type": "markdown",
   "id": "052dc791",
   "metadata": {},
   "source": [
    "## Defining the Gauss_Newton Function\n",
    "The Gauss_Newton function implements the Gaussian-Newton algorithm for parameter optimization. It iteratively updates the parameters using the Jacobian matrix and the residuals. The algorithm continues until either the maximum number of iterations $(k_{max})$ is reached or the norm of the parameter update (dk) falls below the tolerance (eps).\n",
    "\n"
   ]
  },
  {
   "cell_type": "code",
   "execution_count": 176,
   "id": "97e83f60",
   "metadata": {},
   "outputs": [],
   "source": [
    "# Define the Gauss-Newton algorithm\n",
    "def Gauss_Newton(A_init, eps, t, N, k_max):\n",
    "    a=A_init[0,0]\n",
    "    b=A_init[0,1]\n",
    "    c=A_init[1,0]\n",
    "    d=A_init[1,1]\n",
    "    k = 0\n",
    "   # costs = []  # To store costs for each iteration\n",
    "    while k < k_max:\n",
    "        J_f = jacobian_f(A_init, t, X_o, L)\n",
    "        f_A = np.array(f(A_init, t, X_o, N,L))  # Convert f_A to array\n",
    "        S = np.dot(J_f.T, J_f)\n",
    "        R = np.dot(J_f.T, -f_A.flatten())# Negate and flatten f_A\n",
    "        dk = np.linalg.solve(S, R)\n",
    "        a += dk[0]\n",
    "        b += dk[1]\n",
    "        c += dk[2]\n",
    "        d += dk[3]\n",
    "        #cost = 0.25 * np.sum(f_A**2)  # Cost function\n",
    "        #costs.append(cost)  # Append cost for this iteration\n",
    "        if np.linalg.norm(dk) < eps:\n",
    "            break\n",
    "        k += 1\n",
    "\n",
    "\n",
    "    \"\"\"\n",
    "    Returns:\n",
    "    - Approximation of a zero of G\n",
    "    - Value of G at the approximation\n",
    "    - Number of iterations\n",
    "    \"\"\"\n",
    "    return a,b,c,d,k"
   ]
  },
  {
   "cell_type": "code",
   "execution_count": 177,
   "id": "01c1edd0",
   "metadata": {},
   "outputs": [
    {
     "data": {
      "text/plain": [
       "array([ 1.61771936e-04, -8.67109174e-04, -1.00809964e-03,  6.07053774e-04,\n",
       "       -3.96094297e-04, -9.52220577e-04,  7.16825280e-04, -9.27252976e-04,\n",
       "       -1.96216667e-04, -2.93459350e-04,  4.69132995e-04, -1.68919629e-03,\n",
       "       -9.78365796e-04,  9.95562052e-04, -4.83348689e-04,  7.38957992e-04,\n",
       "        4.77881136e-05, -6.42338204e-04, -4.64794643e-05, -2.82525254e-04,\n",
       "       -1.87152128e-03,  1.92529249e-03,  5.10719216e-04,  1.21798561e-03,\n",
       "        4.20308660e-04,  1.03098990e-03,  3.06406363e-04, -8.61346524e-04,\n",
       "        1.48174355e-03, -5.30750927e-04, -1.29782321e-03, -1.43472293e-03,\n",
       "        4.78944987e-04, -9.27817411e-04, -2.94772398e-04,  1.95029493e-03,\n",
       "       -6.76286200e-04,  4.88812803e-04,  8.66747369e-04, -6.74113873e-04,\n",
       "        6.35713762e-05, -1.97810160e-04,  4.07922489e-04,  2.62569067e-04,\n",
       "       -5.16576358e-05,  1.02111606e-04,  1.31603033e-03,  4.42664307e-05,\n",
       "       -6.12326644e-04, -4.76229814e-04,  9.57648747e-04, -5.13873273e-04,\n",
       "       -8.93345233e-04,  1.76997817e-03,  1.42364796e-03,  5.48837854e-04,\n",
       "        1.02482263e-03,  1.12093323e-03,  5.34584520e-04, -2.68476068e-06])"
      ]
     },
     "execution_count": 177,
     "metadata": {},
     "output_type": "execute_result"
    }
   ],
   "source": [
    "-f_A.flatten()"
   ]
  },
  {
   "cell_type": "markdown",
   "id": "28655beb",
   "metadata": {},
   "source": [
    "## Test the Gaussian-Newton algorithm \n",
    "Run the Gaussian-Newton algorithm for parameter optimization and Extract the optimized parameters and the number of iterations"
   ]
  },
  {
   "cell_type": "code",
   "execution_count": 178,
   "id": "c8f30ab8",
   "metadata": {},
   "outputs": [
    {
     "name": "stdout",
     "output_type": "stream",
     "text": [
      "Optimal parameters: -0.32155883764683413 2.250269221605759 2.171953078313969 -0.2669478908674311\n",
      "the number of itteration is: k= 1000\n"
     ]
    }
   ],
   "source": [
    " # optimal parameters\n",
    "results=Gauss_Newton(A_init, eps, t, N, k_max)\n",
    "#A_op=results[0]\n",
    "a_op = results[0]\n",
    "b_op = results[1]\n",
    "c_op = results[2]\n",
    "d_op = results[3]\n",
    "# number of itteration\n",
    "k= results[4] \n",
    "print(\"Optimal parameters:\",a_op, b_op,c_op,d_op ) \n",
    "print(\"the number of itteration is: k=\",k) "
   ]
  },
  {
   "cell_type": "markdown",
   "id": "a07d4c99",
   "metadata": {},
   "source": [
    "## Generate the predicted measurements using the optimized parameters"
   ]
  },
  {
   "cell_type": "code",
   "execution_count": 179,
   "id": "c7b4e359",
   "metadata": {},
   "outputs": [
    {
     "data": {
      "text/plain": [
       "array([[ 2.        ],\n",
       "       [ 0.        ],\n",
       "       [ 1.97894415],\n",
       "       [ 0.29470039],\n",
       "       [ 2.00309991],\n",
       "       [ 0.58428745],\n",
       "       [ 2.0712107 ],\n",
       "       [ 0.87545802],\n",
       "       [ 2.18305549],\n",
       "       [ 1.17467807],\n",
       "       [ 2.33940272],\n",
       "       [ 1.4883369 ],\n",
       "       [ 2.54198814],\n",
       "       [ 1.82289343],\n",
       "       [ 2.79351527],\n",
       "       [ 2.18501827],\n",
       "       [ 3.09767753],\n",
       "       [ 2.58173492],\n",
       "       [ 3.45920168],\n",
       "       [ 3.02056314],\n",
       "       [ 3.88391271],\n",
       "       [ 3.50966788],\n",
       "       [ 4.37882078],\n",
       "       [ 4.05801672],\n",
       "       [ 4.95223125],\n",
       "       [ 4.67554898],\n",
       "       [ 5.61387944],\n",
       "       [ 5.37335996],\n",
       "       [ 6.375092  ],\n",
       "       [ 6.16390377],\n",
       "       [ 7.24897762],\n",
       "       [ 7.06121852],\n",
       "       [ 8.25065011],\n",
       "       [ 8.08117811],\n",
       "       [ 9.3974875 ],\n",
       "       [ 9.24177515],\n",
       "       [10.70943168],\n",
       "       [10.56344016],\n",
       "       [12.20933361],\n",
       "       [12.06940268],\n",
       "       [13.92334994],\n",
       "       [13.78610087],\n",
       "       [15.88139811],\n",
       "       [15.74364666],\n",
       "       [18.11767757],\n",
       "       [17.97635491],\n",
       "       [20.67126634],\n",
       "       [20.52334561],\n",
       "       [23.58680322],\n",
       "       [23.42923   ],\n",
       "       [26.91526755],\n",
       "       [26.74489248],\n",
       "       [30.71487015],\n",
       "       [30.52838207],\n",
       "       [35.05207097],\n",
       "       [34.8459291 ],\n",
       "       [40.00274119],\n",
       "       [39.77310491],\n",
       "       [45.65349023],\n",
       "       [45.39614483]])"
      ]
     },
     "execution_count": 179,
     "metadata": {},
     "output_type": "execute_result"
    }
   ],
   "source": [
    "A_op=np.array([[a_op, b_op ],[c_op, d_op]])\n",
    "g_v_opt = g(A_op, t, X_o, L)\n",
    "A_op\n",
    "g_v_opt"
   ]
  },
  {
   "cell_type": "markdown",
   "id": "fb2aa6a5",
   "metadata": {},
   "source": [
    "## Plot the measurements and the predicted function:"
   ]
  },
  {
   "cell_type": "code",
   "execution_count": 180,
   "id": "5d709dd7",
   "metadata": {},
   "outputs": [
    {
     "data": {
      "image/png": "[encoded data removed]",
      "text/plain": [
       "<Figure size 720x432 with 1 Axes>"
      ]
     },
     "metadata": {
      "needs_background": "light"
     },
     "output_type": "display_data"
    }
   ],
   "source": [
    "# Plotting t against [0:L] and t against N[L:2*L], and also g_v[0:L] and g_v[L:2*L]in the same plot\n",
    "#for sigma in sigmas:\n",
    "plt.figure(figsize=(10, 6))\n",
    "plt.scatter(t, N[0:L], color='red', label='N[0:30]')\n",
    "plt.scatter(t, N[L:2*L], color='blue', label='N[30:60]')\n",
    "plt.plot(t, g_v_opt[0:L], color='green', label='g_v[0:30]')\n",
    "plt.plot(t, g_v_opt[L:2*L], color='orange', label='g_v[30:60]')\n",
    "plt.xlabel('Time')\n",
    "plt.ylabel('Measurement / Predicted Measurement')\n",
    "#plt.title('Noise Level (Sigma) = {}'.format(sigma))\n",
    "plt.title('Measurement and predicted function')\n",
    "plt.legend()\n",
    "plt.grid(True)\n",
    "plt.show()"
   ]
  },
  {
   "cell_type": "markdown",
   "id": "6151aa8d",
   "metadata": {},
   "source": [
    "## Conclusion\n",
    "The Gaussian-Newton algorithm is a powerful tool for parameter optimization in dynamical systems. By iteratively updating the parameters based on the difference between the predicted and observed measurements, the algorithm can find the optimal set of parameters that best fit the data. In this project, we explored the implementation of the Gaussian-Newton algorithm in Python and discussed its key concepts. By understanding and applying this algorithm, you can optimize the parameters of your own dynamical systems and improve their performance.\n",
    "\n"
   ]
  }
 ],
 "metadata": {
  "kernelspec": {
   "display_name": "Python 3 (ipykernel)",
   "language": "python",
   "name": "python3"
  },
  "language_info": {
   "codemirror_mode": {
    "name": "ipython",
    "version": 3
   },
   "file_extension": ".py",
   "mimetype": "text/x-python",
   "name": "python",
   "nbconvert_exporter": "python",
   "pygments_lexer": "ipython3",
   "version": "3.10.12"
  }
 },
 "nbformat": 4,
 "nbformat_minor": 5
}
